{
  "cells": [
    {
      "cell_type": "code",
      "execution_count": null,
      "metadata": {
        "colab": {
          "background_save": true,
          "base_uri": "https://localhost:8080/"
        },
        "id": "iZlpkVT4oSQp",
        "outputId": "191dc8f1-3dc2-4fd1-adfd-cf0cebb011dc"
      },
      "outputs": [
        {
          "name": "stderr",
          "output_type": "stream",
          "text": [
            "Installing package into ‘/usr/local/lib/R/site-library’\n",
            "(as ‘lib’ is unspecified)\n",
            "\n",
            "also installing the dependencies ‘rbibutils’, ‘Deriv’, ‘microbenchmark’, ‘Rdpack’, ‘doBy’, ‘SparseM’, ‘MatrixModels’, ‘minqa’, ‘nloptr’, ‘reformulas’, ‘RcppEigen’, ‘lazyeval’, ‘carData’, ‘Formula’, ‘pbkrtest’, ‘quantreg’, ‘lme4’, ‘crosstalk’, ‘estimability’, ‘mvtnorm’, ‘numDeriv’, ‘corrplot’, ‘viridis’, ‘car’, ‘DT’, ‘ellipse’, ‘emmeans’, ‘flashClust’, ‘leaps’, ‘multcompView’, ‘scatterplot3d’, ‘ggsci’, ‘cowplot’, ‘ggsignif’, ‘gridExtra’, ‘polynom’, ‘rstatix’, ‘plyr’, ‘abind’, ‘dendextend’, ‘FactoMineR’, ‘ggpubr’, ‘reshape2’, ‘ggrepel’\n",
            "\n",
            "\n",
            "\n",
            "Attaching package: ‘dplyr’\n",
            "\n",
            "\n",
            "The following objects are masked from ‘package:stats’:\n",
            "\n",
            "    filter, lag\n",
            "\n",
            "\n",
            "The following objects are masked from ‘package:base’:\n",
            "\n",
            "    intersect, setdiff, setequal, union\n",
            "\n",
            "\n",
            "\n",
            "Attaching package: ‘lubridate’\n",
            "\n",
            "\n",
            "The following objects are masked from ‘package:base’:\n",
            "\n",
            "    date, intersect, setdiff, union\n",
            "\n",
            "\n",
            "Loading required package: ggplot2\n",
            "\n",
            "Welcome! Want to learn more? See two factoextra-related books at https://goo.gl/ve3WBa\n",
            "\n"
          ]
        }
      ],
      "source": [
        "# Load necessary libraries\n",
        "install.packages(\"factoextra\")\n",
        "library(readxl)\n",
        "library(dplyr)\n",
        "library(stringr)\n",
        "library(lubridate)\n",
        "library(tidyr)\n",
        "library(factoextra)\n"
      ]
    },
    {
      "cell_type": "code",
      "execution_count": null,
      "metadata": {
        "id": "l5WYsIgKJ8TC"
      },
      "outputs": [],
      "source": [
        "install.packages(\"openxlsx\")  # Only once\n",
        "library(openxlsx)"
      ]
    },
    {
      "cell_type": "code",
      "execution_count": null,
      "metadata": {
        "colab": {
          "base_uri": "https://localhost:8080/",
          "height": 73
        },
        "id": "NNnb1jk2JMzn",
        "outputId": "cc8425b2-cd99-4855-c0a8-9159d282bbee"
      },
      "outputs": [
        {
          "ename": "ERROR",
          "evalue": "Error in read_excel(\"/content/Monthly Booking Details.xlsx\"): could not find function \"read_excel\"\n",
          "output_type": "error",
          "traceback": [
            "Error in read_excel(\"/content/Monthly Booking Details.xlsx\"): could not find function \"read_excel\"\nTraceback:\n"
          ]
        }
      ],
      "source": [
        "df <- read_excel(\"/content/Monthly Booking Details.xlsx\")\n",
        "\n",
        "# Replace \"-\" with \"Not specified\"\n",
        "df <- df %>% mutate(across(everything(), ~replace(., . == \"-\", \"Not specified\")))\n",
        "\n",
        "# Convert dates\n",
        "df <- df %>%\n",
        "  mutate(\n",
        "    `Check-in` = dmy(`Check-in`),\n",
        "    `Check out` = dmy(`Check out`)\n",
        "  )\n",
        "\n",
        "# Add 'Month' column\n",
        "df <- df %>% mutate(Month = format(`Check-in`, \"%Y-%m\"))\n",
        "\n",
        "# Clean 'Total price' and ensure numeric values\n",
        "df <- df %>%\n",
        "  mutate(\n",
        "    `Total price` = as.numeric(str_replace_all(as.character(`Total price`), \"[^0-9.]\", \"\")),\n",
        "    `Nights Count` = as.numeric(`Nights Count`)\n",
        "  )\n",
        "\n",
        "# Trim white space in names\n",
        "df <- df %>% mutate(`Booking Name` = str_trim(`Booking Name`))\n",
        "\n",
        "# STEP 2: Currency Conversion --------------------------------------\n",
        "\n",
        "# Example conversion table (adjust as needed)\n",
        "conversion_rates <- data.frame(\n",
        "  Currency = c(\"E£\", \"€\", \"ر.س\"),\n",
        "  Rate_to_EGP = c(1, 53, 16)\n",
        ")\n",
        "\n",
        "# Join conversion rates\n",
        "df <- df %>%\n",
        "  left_join(conversion_rates, by = \"Currency\")\n",
        "\n",
        "# Create new column for converted total price\n",
        "df <- df %>%\n",
        "  mutate(`Total price EGP` = `Total price` * Rate_to_EGP)\n",
        "\n",
        "# STEP 3: Aggregate Per Customer -----------------------------------\n",
        "\n",
        "customer_df <- df %>%\n",
        "  group_by(`Booking Name`) %>%\n",
        "  summarise(\n",
        "    TotalSpend = sum(`Total price EGP`, na.rm = TRUE),\n",
        "    AvgNights = mean(`Nights Count`, na.rm = TRUE),\n",
        "    BookingCount = n()\n",
        "  ) %>%\n",
        "  ungroup() %>%\n",
        "  replace_na(list(TotalSpend = 0, AvgNights = 0, BookingCount = 0))\n",
        "\n",
        "# STEP 4: K-Means Clustering ---------------------------------------\n",
        "\n",
        "# Scale features\n",
        "scaled_features <- scale(customer_df[, c(\"TotalSpend\", \"AvgNights\", \"BookingCount\")])\n",
        "\n",
        "# Elbow plot (optional)\n",
        "# fviz_nbclust(scaled_features, kmeans, method = \"wss\")\n",
        "\n",
        "# Run K-means with K = 3\n",
        "set.seed(123)\n",
        "kmeans_result <- kmeans(scaled_features, centers = 3, nstart = 25)\n",
        "customer_df$Cluster <- as.factor(kmeans_result$cluster)\n",
        "\n",
        "# STEP 5: Add Descriptive Segment Labels ---------------------------\n",
        "\n",
        "customer_df <- customer_df %>%\n",
        "  mutate(Segment = case_when(\n",
        "    Cluster == 1 ~ \"High Value Loyalists\",\n",
        "    Cluster == 2 ~ \"Budget Frequent\",\n",
        "    Cluster == 3 ~ \"Low Engagement\"\n",
        "  ))\n",
        "\n",
        "# Optional: Add Segment Description for tooltips\n",
        "customer_df <- customer_df %>%\n",
        "  mutate(Segment_Description = case_when(\n",
        "    Segment == \"High Value Loyalists\" ~ \"Frequent, long-stay, high-spending customers.\",\n",
        "    Segment == \"Budget Frequent\" ~ \"Loyal but price-sensitive customers who book often.\",\n",
        "    Segment == \"Low Engagement\" ~ \"Low-activity or one-time customers.\"\n",
        "  ))\n",
        "\n",
        "# STEP 6: Merge Back to Booking-Level Data --------------------------\n",
        "\n",
        "df_final <- df %>%\n",
        "  left_join(customer_df, by = \"Booking Name\")\n",
        "\n",
        "# STEP 7: Export Final Data ----------------------------------------\n",
        "\n",
        "write.xlsx(df_final, file = \"Monthly_Booking_with_Segments_CurrencyHandled.xlsx\", overwrite = TRUE)\n",
        "\n",
        "# Optional: Print cluster summary\n",
        "cluster_summary <- customer_df %>%\n",
        "  group_by(Segment) %>%\n",
        "  summarise(\n",
        "    Avg_TotalSpend = round(mean(TotalSpend), 2),\n",
        "    Avg_AvgNights = round(mean(AvgNights), 2),\n",
        "    Avg_BookingCount = round(mean(BookingCount), 2),\n",
        "    Count = n()\n",
        "  )\n",
        "\n",
        "print(cluster_summary)\n",
        "\n",
        "# ---------------------------------------------------------\n",
        "# 💡 This version preserves original 'Total price' and 'Currency',\n",
        "#     adds 'Total price EGP' for fair financial comparison,\n",
        "#     and keeps the dashboard Tableau-ready.\n",
        "# ---------------------------------------------------------\n"
      ]
    }
  ],
  "metadata": {
    "colab": {
      "provenance": []
    },
    "kernelspec": {
      "display_name": "R",
      "name": "ir"
    },
    "language_info": {
      "name": "R"
    }
  },
  "nbformat": 4,
  "nbformat_minor": 0
}